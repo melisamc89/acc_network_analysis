{
 "cells": [
  {
   "cell_type": "code",
   "execution_count": 11,
   "metadata": {},
   "outputs": [],
   "source": [
    "import pickle\n",
    "import numpy as np\n",
    "import matplotlib.pyplot as plt\n",
    "import seaborn as sns\n",
    "from scipy.stats import zscore\n",
    "from ipywidgets import interact\n",
    "import ipywidgets as widgets"
   ]
  },
  {
   "cell_type": "code",
   "execution_count": 52,
   "metadata": {},
   "outputs": [],
   "source": [
    "# import data\n",
    "data = np.load('../../../data/raw_data/nike_calcium_trace.npy')\n",
    "X_all = data.T\n",
    "with open('../../../data/raw_data/behaviour.pickle','rb') as f:\n",
    "    behaviour = pickle.load(f)\n",
    "\n",
    "stimulus_duration = 60 # in indexes\n",
    "stimuli = [1,2,3,4,5,6]\n"
   ]
  },
  {
   "cell_type": "code",
   "execution_count": 53,
   "metadata": {},
   "outputs": [],
   "source": [
    "def extract_stim_traces(traces=None,bh_data=None,stimuli=None,onset=None,offset=None):\n",
    "    aligned_traces = []\n",
    "    for stim in stimuli:\n",
    "        stim_aligned_traces = []\n",
    "        for stim_onset in bh_data[f'sound{stim}']:\n",
    "            stim_aligned_traces.append(traces[:,stim_onset+onset:stim_onset+offset])\n",
    "        aligned_traces.append(np.asarray(stim_aligned_traces))\n",
    "\n",
    "    return aligned_traces\n",
    "\n",
    "    "
   ]
  },
  {
   "cell_type": "code",
   "execution_count": 54,
   "metadata": {},
   "outputs": [
    {
     "data": {
      "text/plain": [
       "<AxesSubplot:ylabel='Count'>"
      ]
     },
     "execution_count": 54,
     "metadata": {},
     "output_type": "execute_result"
    },
    {
     "data": {
      "image/png": "[encoded data removed]",
      "text/plain": [
       "<Figure size 432x288 with 1 Axes>"
      ]
     },
     "metadata": {
      "needs_background": "light"
     },
     "output_type": "display_data"
    }
   ],
   "source": [
    "shift_traces = np.asarray([t-min(t) for t in data])\n",
    "tot_activity = np.sum(data,axis=1)/data.shape[1]\n",
    "sns.histplot(tot_activity)"
   ]
  },
  {
   "cell_type": "code",
   "execution_count": 55,
   "metadata": {},
   "outputs": [],
   "source": [
    "#clean data\n",
    "traces = data[tot_activity<10000]\n"
   ]
  },
  {
   "cell_type": "code",
   "execution_count": 56,
   "metadata": {},
   "outputs": [],
   "source": [
    "traces = zscore(traces,axis=-1)\n",
    "aligned_traces = extract_stim_traces(traces=traces,\n",
    "                                     bh_data=behaviour,\n",
    "                                     stimuli=stimuli,\n",
    "                                     onset=-15,\n",
    "                                     offset=75)\n",
    "\n",
    "n_cells = len(traces)"
   ]
  },
  {
   "cell_type": "code",
   "execution_count": 57,
   "metadata": {},
   "outputs": [
    {
     "data": {
      "application/vnd.jupyter.widget-view+json": {
       "model_id": "64a6cb180dc84d6eb0267558322b2434",
       "version_major": 2,
       "version_minor": 0
      },
      "text/plain": [
       "interactive(children=(IntSlider(value=0, description='stim', max=5), IntSlider(value=0, description='neuron', …"
      ]
     },
     "metadata": {},
     "output_type": "display_data"
    },
    {
     "data": {
      "text/plain": [
       "<function __main__.plot_unit(stim, neuron)>"
      ]
     },
     "execution_count": 57,
     "metadata": {},
     "output_type": "execute_result"
    }
   ],
   "source": [
    "def plot_unit(stim,neuron):\n",
    "    stim_traces = aligned_traces[stim]\n",
    "    x = np.linspace(-0.5,2.5,stim_traces.shape[-1])\n",
    "    plt.figure(figsize=(10,10))\n",
    "    plt.axvline(x=0,linestyle='--')\n",
    "    plt.axvline(x=2,linestyle='--')\n",
    "    for i in range(stim_traces.shape[0]):\n",
    "        plt.plot(x,stim_traces[i,neuron]+i*0.5,c='k')\n",
    "    sns.despine\n",
    "    \n",
    "interact(plot_unit, stim=widgets.IntSlider(min=0, max=(len(stimuli)-1)),\n",
    "                    neuron = widgets.IntSlider(min=0, max=(n_cells-1), value=0))"
   ]
  }
 ],
 "metadata": {
  "kernelspec": {
   "display_name": "Python 3.8.8 ('base')",
   "language": "python",
   "name": "python3"
  },
  "language_info": {
   "codemirror_mode": {
    "name": "ipython",
    "version": 3
   },
   "file_extension": ".py",
   "mimetype": "text/x-python",
   "name": "python",
   "nbconvert_exporter": "python",
   "pygments_lexer": "ipython3",
   "version": "3.8.8"
  },
  "orig_nbformat": 4,
  "vscode": {
   "interpreter": {
    "hash": "ec757111aa82fc412dab5a41ba1a33fdb6db5c8112df3ff06fec0dbff050b412"
   }
  }
 },
 "nbformat": 4,
 "nbformat_minor": 2
}
