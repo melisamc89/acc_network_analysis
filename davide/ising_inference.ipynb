{
 "cells": [
  {
   "cell_type": "code",
   "execution_count": 60,
   "metadata": {},
   "outputs": [],
   "source": [
    "import coniii\n",
    "import numpy as np\n",
    "import matplotlib.pyplot as plt\n",
    "import seaborn as sns"
   ]
  },
  {
   "cell_type": "markdown",
   "metadata": {},
   "source": [
    "Guide to use coniii solvers: https://github.com/eltrompetero/coniii/blob/py3/ipynb/usage_guide.ipynb"
   ]
  },
  {
   "cell_type": "code",
   "execution_count": 61,
   "metadata": {},
   "outputs": [],
   "source": [
    "def spinize(traces):\n",
    "    stds = np.std(traces,axis=-1)\n",
    "    out = np.zeros_like(traces)\n",
    "    for i in range(traces.shape[0]):\n",
    "        for j in range(traces.shape[1]):\n",
    "            if traces[i,j]>stds[i]:\n",
    "                out[i][j] = 1\n",
    "            else:\n",
    "                out[i][j] = -1\n",
    "\n",
    "    return out\n",
    "\n",
    "    "
   ]
  },
  {
   "cell_type": "code",
   "execution_count": 62,
   "metadata": {},
   "outputs": [],
   "source": [
    "# import raw trace and transofrm in spins\n",
    "data = np.load('../data/raw_data/nike_calcium_trace.npy')\n",
    "sample = spinize(data).T\n",
    "#np.save('../data/processed_data/spins.npy',sample)\n"
   ]
  },
  {
   "cell_type": "code",
   "execution_count": 64,
   "metadata": {},
   "outputs": [
    {
     "name": "stderr",
     "output_type": "stream",
     "text": [
      "/Users/davide/opt/anaconda3/envs/network_inference/lib/python3.8/site-packages/coniii/solvers.py:125: UserWarning: Assuming that calc_observables should be for Ising model.\n",
      "  if iprint: warn(\"Assuming that calc_observables should be for Ising model.\")\n",
      "/Users/davide/opt/anaconda3/envs/network_inference/lib/python3.8/site-packages/coniii/solvers.py:134: UserWarning: Some pairwise correlations have magnitude close to one. Potential for poor solutions from diverging parameters.\n",
      "  warn(msg)\n"
     ]
    }
   ],
   "source": [
    "# fit model on subset of data\n",
    "n_neurons = sample.shape[1]\n",
    "n_timepoints = sample.shape[0]\n",
    "sub_sample = sample[:n_timepoints,:n_neurons]\n",
    "solver = coniii.Pseudo(sub_sample)\n",
    "solver.solve();"
   ]
  },
  {
   "cell_type": "code",
   "execution_count": 68,
   "metadata": {},
   "outputs": [],
   "source": [
    "# unpack fitted value\n",
    "h,J = solver.multipliers[:n_neurons],solver.multipliers[n_neurons:]"
   ]
  },
  {
   "cell_type": "code",
   "execution_count": 70,
   "metadata": {},
   "outputs": [
    {
     "data": {
      "image/png": "[encoded data removed]",
      "text/plain": [
       "<Figure size 720x360 with 2 Axes>"
      ]
     },
     "metadata": {},
     "output_type": "display_data"
    }
   ],
   "source": [
    "# histograms of values\n",
    "outlier_th = 50\n",
    "n_bins_h = 15\n",
    "n_bins_J = 60\n",
    "plt.figure(figsize=(10,5))\n",
    "sns.set(font_scale=1.5,style='white')\n",
    "plt.subplot(1,2,1)\n",
    "sns.histplot(h[np.logical_and(h<outlier_th,h>-outlier_th)],bins=n_bins_h)\n",
    "sns.despine()\n",
    "plt.subplot(1,2,2)\n",
    "sns.histplot(J[np.logical_and(J<outlier_th,J>-outlier_th)],bins=n_bins_J)\n",
    "\n",
    "sns.despine()"
   ]
  },
  {
   "cell_type": "code",
   "execution_count": null,
   "metadata": {},
   "outputs": [],
   "source": []
  }
 ],
 "metadata": {
  "kernelspec": {
   "display_name": "Python 3.8.13 ('network_inference')",
   "language": "python",
   "name": "python3"
  },
  "language_info": {
   "codemirror_mode": {
    "name": "ipython",
    "version": 3
   },
   "file_extension": ".py",
   "mimetype": "text/x-python",
   "name": "python",
   "nbconvert_exporter": "python",
   "pygments_lexer": "ipython3",
   "version": "3.8.13"
  },
  "orig_nbformat": 4,
  "vscode": {
   "interpreter": {
    "hash": "e1d2d4ff3f22ea17b1e5b2179df22d495c27d3d826a37ed2b4250bb6427897f9"
   }
  }
 },
 "nbformat": 4,
 "nbformat_minor": 2
}
