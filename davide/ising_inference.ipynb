{
 "cells": [
  {
   "cell_type": "code",
   "execution_count": 1,
   "metadata": {},
   "outputs": [],
   "source": [
    "import coniii\n",
    "import numpy as np\n",
    "import matplotlib.pyplot as plt\n",
    "import seaborn as sns\n",
    "import pickle\n",
    "from tqdm import tqdm"
   ]
  },
  {
   "cell_type": "markdown",
   "metadata": {},
   "source": [
    "Guide to use coniii solvers: https://github.com/eltrompetero/coniii/blob/py3/ipynb/usage_guide.ipynb"
   ]
  },
  {
   "cell_type": "code",
   "execution_count": 2,
   "metadata": {},
   "outputs": [],
   "source": [
    "def spinize(traces):\n",
    "    stds = np.std(traces,axis=-1)\n",
    "    out = np.zeros_like(traces)\n",
    "    for i in range(traces.shape[0]):\n",
    "        for j in range(traces.shape[1]):\n",
    "            if traces[i,j]>stds[i]:\n",
    "                out[i][j] = 1\n",
    "            else:\n",
    "                out[i][j] = -1\n",
    "\n",
    "    return out\n",
    "\n",
    "    "
   ]
  },
  {
   "cell_type": "code",
   "execution_count": 3,
   "metadata": {},
   "outputs": [],
   "source": [
    "# import raw trace and transofrm in spins\n",
    "data = np.load('../../../data/raw_data/nike_calcium_trace.npy')\n",
    "sample = spinize(data).T\n",
    "#np.save('../data/processed_data/spins.npy',sample)\n"
   ]
  },
  {
   "cell_type": "code",
   "execution_count": 7,
   "metadata": {},
   "outputs": [
    {
     "name": "stderr",
     "output_type": "stream",
     "text": [
      "/Users/davide/opt/anaconda3/envs/network_inference/lib/python3.8/site-packages/coniii/solvers.py:125: UserWarning: Assuming that calc_observables should be for Ising model.\n",
      "  if iprint: warn(\"Assuming that calc_observables should be for Ising model.\")\n",
      "/Users/davide/opt/anaconda3/envs/network_inference/lib/python3.8/site-packages/coniii/solvers.py:134: UserWarning: Some pairwise correlations have magnitude close to one. Potential for poor solutions from diverging parameters.\n",
      "  warn(msg)\n"
     ]
    },
    {
     "data": {
      "text/plain": [
       "array([ 0.03185614,  0.05206406, -0.01979656, ...,  0.06024016,\n",
       "        0.0162453 ,  0.00349195])"
      ]
     },
     "execution_count": 7,
     "metadata": {},
     "output_type": "execute_result"
    }
   ],
   "source": [
    "# fit model on subset of data\n",
    "n_neurons = sample.shape[1]\n",
    "n_timepoints = sample.shape[0]\n",
    "sub_sample = sample[:n_timepoints,:n_neurons]\n",
    "solver = coniii.Pseudo(sub_sample)\n",
    "solver.solve()"
   ]
  },
  {
   "cell_type": "code",
   "execution_count": 9,
   "metadata": {},
   "outputs": [
    {
     "data": {
      "text/plain": [
       "<AxesSubplot:ylabel='Count'>"
      ]
     },
     "execution_count": 9,
     "metadata": {},
     "output_type": "execute_result"
    },
    {
     "data": {
      "image/png": "[encoded data removed]",
      "text/plain": [
       "<Figure size 432x288 with 1 Axes>"
      ]
     },
     "metadata": {
      "needs_background": "light"
     },
     "output_type": "display_data"
    }
   ],
   "source": [
    "sns.histplot([sum(sample[:,i]==1)/len(sample[:,i]) for i in range(sample.shape[1])])"
   ]
  },
  {
   "cell_type": "code",
   "execution_count": 9,
   "metadata": {},
   "outputs": [],
   "source": [
    "# unpack fitted value\n",
    "h,J = solver.multipliers[:n_neurons],solver.multipliers[n_neurons:]"
   ]
  },
  {
   "cell_type": "code",
   "execution_count": 13,
   "metadata": {},
   "outputs": [],
   "source": [
    "# save data\n",
    "with open('../../../data/processed_data/pseudo_ll_model.pkl','wb') as f:\n",
    "    pickle.dump(solver,f)\n",
    "np.save('../../../data/processed_data/h.npy',h)\n",
    "np.save('../../../data/processed_data/J.npy',J)"
   ]
  },
  {
   "cell_type": "code",
   "execution_count": 14,
   "metadata": {},
   "outputs": [],
   "source": [
    "# import data\n",
    "with open('../../../data/processed_data/pseudo_ll_model.pkl','rb') as f:\n",
    "    solver = pickle.load(f)"
   ]
  },
  {
   "cell_type": "code",
   "execution_count": 16,
   "metadata": {},
   "outputs": [
    {
     "data": {
      "image/png": "[encoded data removed]",
      "text/plain": [
       "<Figure size 720x360 with 2 Axes>"
      ]
     },
     "metadata": {
      "needs_background": "light"
     },
     "output_type": "display_data"
    }
   ],
   "source": [
    "# histograms of values\n",
    "outlier_th = 1000\n",
    "n_bins_h = 15\n",
    "n_bins_J = 60\n",
    "plt.figure(figsize=(10,5))\n",
    "sns.set(font_scale=1.5,style='white')\n",
    "plt.subplot(1,2,1)\n",
    "sns.histplot(h[np.logical_and(h<outlier_th,h>-outlier_th)],bins=n_bins_h)\n",
    "sns.despine()\n",
    "plt.subplot(1,2,2)\n",
    "sns.histplot(J[np.logical_and(J<outlier_th,J>-outlier_th)],bins=n_bins_J)\n",
    "\n",
    "sns.despine()"
   ]
  },
  {
   "cell_type": "code",
   "execution_count": 17,
   "metadata": {},
   "outputs": [],
   "source": [
    "def log_corr(x1,x2):\n",
    "    a1 = x1==1\n",
    "    a2 = x2==1\n",
    "    f1 = sum(a1)/len(a1)\n",
    "    f2 = sum(a2)/len(a2)\n",
    "    f12 = sum(a1*a2)/len(a1)\n",
    "    \n",
    "    if f1==0 or f2==0:\n",
    "        out = np.nan\n",
    "    else:\n",
    "        out = np.log(f12/(f1*f2))\n",
    "\n",
    "    return out"
   ]
  },
  {
   "cell_type": "code",
   "execution_count": 25,
   "metadata": {},
   "outputs": [
    {
     "name": "stderr",
     "output_type": "stream",
     "text": [
      "100%|██████████| 134/134 [47:54<00:00, 21.45s/it] \n"
     ]
    }
   ],
   "source": [
    "CI = []\n",
    "for i in tqdm(range(n_neurons)):\n",
    "    for j in range(i+1,n_neurons):\n",
    "        CI.append(log_corr(sub_sample[:,i],sub_sample[:,j]))"
   ]
  },
  {
   "cell_type": "code",
   "execution_count": 26,
   "metadata": {},
   "outputs": [],
   "source": [
    "np.save('../../../data/processed_data/CI.npy',CI)"
   ]
  },
  {
   "cell_type": "code",
   "execution_count": 27,
   "metadata": {},
   "outputs": [
    {
     "data": {
      "image/png": "[encoded data removed]",
      "text/plain": [
       "<Figure size 720x360 with 1 Axes>"
      ]
     },
     "metadata": {},
     "output_type": "display_data"
    }
   ],
   "source": [
    "n_bins_CI = 60\n",
    "plt.figure(figsize=(10,5))\n",
    "sns.set(font_scale=1.5,style='white')\n",
    "sns.histplot(CI,bins=n_bins_CI)\n",
    "sns.despine()"
   ]
  },
  {
   "cell_type": "code",
   "execution_count": 32,
   "metadata": {},
   "outputs": [
    {
     "data": {
      "text/plain": [
       "<matplotlib.collections.PathCollection at 0x7fc128fa59a0>"
      ]
     },
     "execution_count": 32,
     "metadata": {},
     "output_type": "execute_result"
    },
    {
     "data": {
      "image/png": "[encoded data removed]",
      "text/plain": [
       "<Figure size 288x288 with 1 Axes>"
      ]
     },
     "metadata": {},
     "output_type": "display_data"
    }
   ],
   "source": [
    "plt.figure(figsize=(4,4))\n",
    "plt.scatter(CI,J)"
   ]
  },
  {
   "cell_type": "code",
   "execution_count": 21,
   "metadata": {},
   "outputs": [
    {
     "data": {
      "text/plain": [
       "8778"
      ]
     },
     "execution_count": 21,
     "metadata": {},
     "output_type": "execute_result"
    }
   ],
   "source": [
    "len(CI)"
   ]
  },
  {
   "cell_type": "code",
   "execution_count": 22,
   "metadata": {},
   "outputs": [
    {
     "data": {
      "text/plain": [
       "8911"
      ]
     },
     "execution_count": 22,
     "metadata": {},
     "output_type": "execute_result"
    }
   ],
   "source": [
    "len(J)"
   ]
  },
  {
   "cell_type": "code",
   "execution_count": 22,
   "metadata": {},
   "outputs": [
    {
     "data": {
      "text/plain": [
       "123"
      ]
     },
     "execution_count": 22,
     "metadata": {},
     "output_type": "execute_result"
    }
   ],
   "source": [
    "8911-8788"
   ]
  },
  {
   "cell_type": "code",
   "execution_count": 23,
   "metadata": {},
   "outputs": [
    {
     "data": {
      "text/plain": [
       "134"
      ]
     },
     "execution_count": 23,
     "metadata": {},
     "output_type": "execute_result"
    }
   ],
   "source": [
    "n_neurons"
   ]
  },
  {
   "cell_type": "code",
   "execution_count": 24,
   "metadata": {},
   "outputs": [
    {
     "data": {
      "text/plain": [
       "8911.0"
      ]
     },
     "execution_count": 24,
     "metadata": {},
     "output_type": "execute_result"
    }
   ],
   "source": [
    "n_neurons*(n_neurons-1)/2"
   ]
  },
  {
   "cell_type": "code",
   "execution_count": null,
   "metadata": {},
   "outputs": [],
   "source": []
  }
 ],
 "metadata": {
  "kernelspec": {
   "display_name": "Python 3.8.13 ('network_inference')",
   "language": "python",
   "name": "python3"
  },
  "language_info": {
   "codemirror_mode": {
    "name": "ipython",
    "version": 3
   },
   "file_extension": ".py",
   "mimetype": "text/x-python",
   "name": "python",
   "nbconvert_exporter": "python",
   "pygments_lexer": "ipython3",
   "version": "3.8.13"
  },
  "orig_nbformat": 4,
  "vscode": {
   "interpreter": {
    "hash": "e1d2d4ff3f22ea17b1e5b2179df22d495c27d3d826a37ed2b4250bb6427897f9"
   }
  }
 },
 "nbformat": 4,
 "nbformat_minor": 2
}
